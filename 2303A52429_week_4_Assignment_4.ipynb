{
  "nbformat": 4,
  "nbformat_minor": 0,
  "metadata": {
    "colab": {
      "provenance": [],
      "authorship_tag": "ABX9TyOMJ0ZrMnGTIyKQKpRAGSNy",
      "include_colab_link": true
    },
    "kernelspec": {
      "name": "python3",
      "display_name": "Python 3"
    },
    "language_info": {
      "name": "python"
    }
  },
  "cells": [
    {
      "cell_type": "markdown",
      "metadata": {
        "id": "view-in-github",
        "colab_type": "text"
      },
      "source": [
        "<a href=\"https://colab.research.google.com/github/2303a52429/GENERATIVE_AI/blob/main/2303A52429_week_4_Assignment_4.ipynb\" target=\"_parent\"><img src=\"https://colab.research.google.com/assets/colab-badge.svg\" alt=\"Open In Colab\"/></a>"
      ]
    },
    {
      "cell_type": "markdown",
      "source": [
        " 1. (1 ponto) Design a simple ANN architecture with one input and one output layer (no hidden\n",
        " layer). Assume a linear activation function in the output layer.\n",
        " • Write Python code for a backpropagation algorithm with gradient descent optimization to\n",
        " update weights and bias parameters of the ANN model with training data shown in Table\n",
        " 1.\n",
        " • Calculate the mean square error with training and testing data shown in Table 2.\n",
        " • Write Python code that reads the input data [x1, x2, and x3] from the user. Predict the\n",
        " output with deployed ANN model\n",
        " Tabela 1: Training Data\n",
        " x1 x2 x3 y\n",
        " 0.1 0.2 0.3 0.14\n",
        " 0.2 0.3 0.4 0.20\n",
        " 0.3 0.4 0.5 0.26\n",
        " 0.5 0.6 0.7 0.38\n",
        " 0.1 0.3 0.5 0.22\n",
        " 0.2 0.4 0.6 0.28\n",
        " 0.3 0.5 0.7 0.34\n",
        " 0.4 0.6 0.8 0.40\n",
        " 0.5 0.7 0.1 0.22\n",
        " Tabela 2: Test Data\n",
        " x1 x2 x3 y\n",
        " 0.6 0.7 0.8 0.44\n",
        " 0.7 0.8 0.9 0.5"
      ],
      "metadata": {
        "id": "4EvtqwmKUnY1"
      }
    },
    {
      "cell_type": "code",
      "source": [
        "import numpy as np\n",
        "X = np.array([\n",
        "    [0.1, 0.2, 0.3], [0.2, 0.3, 0.4], [0.3, 0.4, 0.5],\n",
        "    [0.5, 0.6, 0.7], [0.1, 0.3, 0.5], [0.2, 0.4, 0.6],\n",
        "    [0.3, 0.5, 0.7], [0.4, 0.6, 0.8], [0.5, 0.7, 0.1]\n",
        "])\n",
        "y = np.array([0.14, 0.20, 0.26, 0.38, 0.22, 0.28, 0.34, 0.40, 0.22])\n",
        "\n",
        "X_test = np.array([[0.6, 0.7, 0.8], [0.7, 0.8, 0.9]])\n",
        "y_test = np.array([0.44, 0.50])\n",
        "np.random.seed(42)\n",
        "w, b = np.random.rand(3), np.random.rand()\n",
        "lr, epochs = 0.01, 1000\n",
        "for _ in range(epochs):\n",
        "    pred = np.dot(X, w) + b\n",
        "    err = pred - y\n",
        "    w -= lr * (2 / len(X)) * np.dot(X.T, err)\n",
        "    b -= lr * (2 / len(X)) * np.sum(err)\n",
        "mse = lambda y, p: np.mean((y - p) ** 2)\n",
        "print(f\"W: {w.round(4)} | B: {b:.4f}\")\n",
        "print(f\"Train MSE: {mse(y, np.dot(X, w) + b):.4f}\")\n",
        "print(f\"Test MSE: {mse(y_test, np.dot(X_test, w) + b):.4f}\")\n",
        "x1, x2, x3 = map(float, input(\"Enter x1 x2 x3: \").split())\n",
        "print(f\"Predicted: {(np.dot([x1, x2, x3], w) + b):.4f}\")\n"
      ],
      "metadata": {
        "colab": {
          "base_uri": "https://localhost:8080/"
        },
        "id": "NibysaMXYYb1",
        "outputId": "9196e63b-726a-4550-aadd-74850fe978f7"
      },
      "execution_count": 5,
      "outputs": [
        {
          "output_type": "stream",
          "name": "stdout",
          "text": [
            "W: [0.0293 0.4737 0.313 ] | B: -0.1109\n",
            "Train MSE: 0.0012\n",
            "Test MSE: 0.0037\n",
            "Enter x1 x2 x3: 23 90000 2\n",
            "Predicted: 42635.0056\n"
          ]
        }
      ]
    },
    {
      "cell_type": "markdown",
      "source": [
        " (1 ponto) Design a simple ANN architecture with one input and one output layer (no hidden\n",
        " layer). Assume a sigmoid activation function shown in the equation 1 in the output layer.\n",
        " f(x) = 1\n",
        " 1 +e−x\n",
        " (1)\n",
        " • Write Python code for a backpropagation algorithm with gradient descent optimization to\n",
        " update weights and bias parameters of the ANN model with training data shown in Table\n",
        " 3.\n",
        " ©Dr. Venkataramana Veeramsetty, Professor\n",
        " Pag. 1 de 2\n",
        "II- B.Tech (CS& AI)\n",
        " Tabela 3: Training Data\n",
        " Generative AI- Assignment- 4\n",
        " x1 x2 x3 y\n",
        " 0.1 0.2 0.3 0.5349\n",
        " 0.2 0.3 0.4 0.5498\n",
        " 0.3 0.4 0.5 0.5646\n",
        " 0.5 0.6 0.7 0.5939\n",
        " 0.1 0.3 0.5 0.5548\n",
        " 0.2 0.4 0.6 0.5695\n",
        " 0.3 0.5 0.7 0.5842\n",
        " 0.4 0.6 0.8 0.5987\n",
        " 0.5 0.7 0.1 0.5548\n",
        " Tabela 4: Test Data\n",
        " x1 x2 x3 y\n",
        " 0.6 0.7 0.8 0.6083\n",
        " 0.7 0.8 0.9 0.6225\n",
        " • Calculate the mean square error with training and testing data shown in Table 4.\n",
        " • Write Python code that reads the input data [x1, x2, and x3] from the user. Predict the\n",
        " output with deployed ANN mode"
      ],
      "metadata": {
        "id": "1QJ-yYajUvH3"
      }
    },
    {
      "cell_type": "code",
      "source": [
        "import numpy as np\n",
        "sig = lambda x: 1 / (1 + np.exp(-x))\n",
        "dsig = lambda x: sig(x) * (1 - sig(x))\n",
        "mse = lambda y, p: np.mean((y - p) ** 2)\n",
        "data = np.array([\n",
        "    [0.1, 0.2, 0.3, 0.5349], [0.2, 0.3, 0.4, 0.5498], [0.3, 0.4, 0.5, 0.5646],\n",
        "    [0.5, 0.6, 0.7, 0.5939], [0.1, 0.3, 0.5, 0.5548], [0.2, 0.4, 0.6, 0.5695],\n",
        "    [0.3, 0.5, 0.7, 0.5842], [0.4, 0.6, 0.8, 0.5987], [0.5, 0.7, 0.1, 0.5548]\n",
        "])\n",
        "\n",
        "test = np.array([[0.6, 0.7, 0.8, 0.6083], [0.7, 0.8, 0.9, 0.6225]])\n",
        "\n",
        "X, Y = data[:, :3], data[:, 3]\n",
        "Xt, Yt = test[:, :3], test[:, 3]\n",
        "np.random.seed(42)\n",
        "w, b = np.random.rand(3), np.random.rand()\n",
        "lr, epochs = 0.1, 1000\n",
        "for _ in range(epochs):\n",
        "    for x, y in zip(X, Y):\n",
        "        z, p = np.dot(w, x) + b, sig(np.dot(w, x) + b)\n",
        "        e = y - p\n",
        "        dw, db = e * dsig(z) * x, e * dsig(z)\n",
        "        w, b = w + lr * dw, b + lr * db\n",
        "print(f\"Train MSE: {mse(Y, sig(np.dot(X, w) + b)):.4f}\")\n",
        "print(f\"Test MSE: {mse(Yt, sig(np.dot(Xt, w) + b)):.4f}\")\n",
        "x1, x2, x3 = map(float, input(\"Enter x1 x2 x3: \").split())\n",
        "print(f\"Predicted: {sig(np.dot([x1, x2, x3], w) + b):.4f}\")\n"
      ],
      "metadata": {
        "colab": {
          "base_uri": "https://localhost:8080/"
        },
        "id": "gmYbRHbDYfvi",
        "outputId": "15263263-7c79-4cc9-ca08-c78a46d0b244"
      },
      "execution_count": 6,
      "outputs": [
        {
          "output_type": "stream",
          "name": "stdout",
          "text": [
            "Train MSE: 0.0000\n",
            "Test MSE: 0.0000\n",
            "Enter x1 x2 x3: 23 500 50000\n",
            "Predicted: 1.0000\n"
          ]
        }
      ]
    }
  ]
}
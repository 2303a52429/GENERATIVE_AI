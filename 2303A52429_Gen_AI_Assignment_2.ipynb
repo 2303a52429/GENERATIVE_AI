{
  "nbformat": 4,
  "nbformat_minor": 0,
  "metadata": {
    "colab": {
      "provenance": []
    },
    "kernelspec": {
      "name": "python3",
      "display_name": "Python 3"
    },
    "language_info": {
      "name": "python"
    }
  },
  "cells": [
    {
      "cell_type": "markdown",
      "source": [
        "ASSIGNMENT-2"
      ],
      "metadata": {
        "id": "Y8mRatCEWaoV"
      }
    },
    {
      "cell_type": "code",
      "source": [
        "\n",
        "milk_available = 5\n",
        "choco_available = 12\n",
        "profit_A = 6\n",
        "profit_B = 5\n",
        "\n",
        "\n",
        "milk_per_A = 1\n",
        "choco_per_A = 3\n",
        "milk_per_B = 1\n",
        "choco_per_B = 2\n",
        "\n",
        "max_profit = 0\n",
        "optimal_A = 0\n",
        "optimal_B = 0\n",
        "\n",
        "for A in range(milk_available + 1):\n",
        "    for B in range(milk_available + 1):\n",
        "\n",
        "        milk_used = (A * milk_per_A) + (B * milk_per_B)\n",
        "        choco_used = (A * choco_per_A) + (B * choco_per_B)\n",
        "\n",
        "\n",
        "        if milk_used <= milk_available and choco_used <= choco_available:\n",
        "\n",
        "            profit = (A * profit_A) + (B * profit_B)\n",
        "\n",
        "            if profit > max_profit:\n",
        "                max_profit = profit\n",
        "                optimal_A = A\n",
        "                optimal_B = B\n",
        "\n",
        "print(\"Optimal solution found:\")\n",
        "print(f\"Units of Chocolate A to produce: {optimal_A}\")\n",
        "print(f\"Units of Chocolate B to produce: {optimal_B}\")\n",
        "print(f\"Maximum Profit: Rs {max_profit}\")\n"
      ],
      "metadata": {
        "colab": {
          "base_uri": "https://localhost:8080/"
        },
        "id": "71-OcLFBUvhF",
        "outputId": "55d157e7-bfb4-4b24-f128-2a92e3acb97e"
      },
      "execution_count": 3,
      "outputs": [
        {
          "output_type": "stream",
          "name": "stdout",
          "text": [
            "Optimal solution found:\n",
            "Units of Chocolate A to produce: 2\n",
            "Units of Chocolate B to produce: 3\n",
            "Maximum Profit: Rs 27\n"
          ]
        }
      ]
    },
    {
      "cell_type": "markdown",
      "source": [
        " 2. (1 ponto) Develop mathematical modeling for the given case study and find solution using\n",
        " Python"
      ],
      "metadata": {
        "id": "uJBra0QsW5xr"
      }
    },
    {
      "cell_type": "code",
      "source": [
        "\n",
        "land_available = 110\n",
        "budget = 700000\n",
        "labor_available = 1200\n",
        "cost_wheat = 7000\n",
        "cost_barley = 2000\n",
        "profit_wheat = 50\n",
        "profit_barley = 30\n",
        "labor_wheat = 120\n",
        "labor_barley = 10\n",
        "max_profit = 0\n",
        "optimal_wheat = 0\n",
        "optimal_barley = 0\n",
        "for wheat in range(land_available + 1):\n",
        "    for barley in range(land_available + 1 - wheat):\n",
        "        total_land = wheat + barley\n",
        "        total_cost = (wheat * cost_wheat) + (barley * cost_barley)\n",
        "        total_labor = (wheat * labor_wheat) + (barley * labor_barley)\n",
        "        if total_land <= land_available and total_cost <= budget and total_labor <= labor_available:\n",
        "            profit = (wheat * profit_wheat) + (barley * profit_barley)\n",
        "            if profit > max_profit:\n",
        "                max_profit = profit\n",
        "                optimal_wheat = wheat\n",
        "                optimal_barley = barley\n",
        "print(\"Optimal solution found:\")\n",
        "print(f\"Hectares of Wheat to plant: {optimal_wheat}\")\n",
        "print(f\"Hectares of Barley to plant: {optimal_barley}\")\n",
        "print(f\"Maximum Profit: Rs {max_profit}\")\n"
      ],
      "metadata": {
        "colab": {
          "base_uri": "https://localhost:8080/"
        },
        "id": "5EB6qz2VXoLI",
        "outputId": "e27d6f52-3fd2-4050-b892-6e7cd1636c22"
      },
      "execution_count": 5,
      "outputs": [
        {
          "output_type": "stream",
          "name": "stdout",
          "text": [
            "Optimal solution found:\n",
            "Hectares of Wheat to plant: 0\n",
            "Hectares of Barley to plant: 110\n",
            "Maximum Profit: Rs 3300\n"
          ]
        }
      ]
    }
  ]
}